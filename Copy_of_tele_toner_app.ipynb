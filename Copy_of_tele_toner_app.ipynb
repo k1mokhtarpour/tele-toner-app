{
  "nbformat": 4,
  "nbformat_minor": 0,
  "metadata": {
    "colab": {
      "name": "Copy of tele-toner-app.ipynb",
      "provenance": [],
      "toc_visible": true
    },
    "kernelspec": {
      "name": "python3",
      "display_name": "Python 3"
    },
    "language_info": {
      "name": "python"
    }
  },
  "cells": [
    {
      "cell_type": "markdown",
      "metadata": {
        "id": "MKUPzb4dMy24"
      },
      "source": [
        "# IBM WATSON TONE ANALYZER "
      ]
    },
    {
      "cell_type": "markdown",
      "metadata": {
        "id": "hcQ6E4bnM7qc"
      },
      "source": [
        "## Getting Started with IBM Watson "
      ]
    },
    {
      "cell_type": "code",
      "metadata": {
        "id": "td71oSraMsJo"
      },
      "source": [
        "!pip install ibm_watson "
      ],
      "execution_count": null,
      "outputs": []
    },
    {
      "cell_type": "markdown",
      "metadata": {
        "id": "qx2VndOxoPAJ"
      },
      "source": [
        "## Getting Started with Python Package to work with Telegram"
      ]
    },
    {
      "cell_type": "code",
      "metadata": {
        "id": "gmev5zKUoMxd"
      },
      "source": [
        "!pip install telethon"
      ],
      "execution_count": null,
      "outputs": []
    },
    {
      "cell_type": "markdown",
      "metadata": {
        "id": "biP7xddbNHbb"
      },
      "source": [
        "## Credentials Setup "
      ]
    },
    {
      "cell_type": "code",
      "metadata": {
        "cellView": "form",
        "id": "XIwkZZIUNMuw"
      },
      "source": [
        "#@title Private IBM Watson Credentials \n",
        "apikey = 'PQH09s7Ui-FFNPrv_QhIHHqC2SklFk-c-btGSZCEEdBk'\n",
        "url = 'https://api.us-south.tone-analyzer.watson.cloud.ibm.com/instances/0fcd3e3c-4c90-4b6b-971c-f13f8eb1ccd2'"
      ],
      "execution_count": null,
      "outputs": []
    },
    {
      "cell_type": "markdown",
      "metadata": {
        "id": "jonwtA-FOB4F"
      },
      "source": [
        "## Watson Libraries Import \n"
      ]
    },
    {
      "cell_type": "code",
      "metadata": {
        "id": "CSaNek0JOFSu"
      },
      "source": [
        "# https://betterprogramming.pub/how-to-get-data-from-telegram-82af55268a4b \n",
        "# https://www.youtube.com/watch?v=1LHLiBhASSA\n",
        "from ibm_watson import ToneAnalyzerV3 \n",
        "from ibm_cloud_sdk_core.authenticators import IAMAuthenticator"
      ],
      "execution_count": null,
      "outputs": []
    },
    {
      "cell_type": "markdown",
      "metadata": {
        "id": "0MKHu3MToo_c"
      },
      "source": [
        "## Telegram Libraries Import "
      ]
    },
    {
      "cell_type": "code",
      "metadata": {
        "id": "Pe5JOXY7ot5F"
      },
      "source": [
        "import configparser\n",
        "import json\n",
        "import asyncio\n",
        "from datetime import date, datetime\n",
        "from telethon import TelegramClient\n",
        "from telethon.errors import SessionPasswordNeededError\n",
        "from telethon.tl.functions.channels import GetParticipantsRequest\n",
        "from telethon.tl.types import ChannelParticipantsSearch\n",
        "from telethon.tl.functions.messages import (GetHistoryRequest)\n",
        "from telethon.tl.types import (PeerChannel)"
      ],
      "execution_count": null,
      "outputs": []
    },
    {
      "cell_type": "markdown",
      "metadata": {
        "id": "dagRQkeHOJW0"
      },
      "source": [
        "## Tone Analyzer Setup "
      ]
    },
    {
      "cell_type": "code",
      "metadata": {
        "id": "7V_q_t4eOIlH"
      },
      "source": [
        "authenticator = IAMAuthenticator(apikey)\n",
        "ta = ToneAnalyzerV3(version='2017-09-21', authenticator=authenticator)\n",
        "ta.set_service_url(url)"
      ],
      "execution_count": null,
      "outputs": []
    },
    {
      "cell_type": "markdown",
      "metadata": {
        "id": "ETe8ZSpAqSaV"
      },
      "source": [
        "## Config Telegram "
      ]
    },
    {
      "cell_type": "code",
      "metadata": {
        "id": "NeY_1PuIqRTb"
      },
      "source": [
        "config = configparser.ConfigParser()\n",
        "config.read(\"config.ini\")\n",
        "\n",
        "# Setting configuration values\n",
        "api_id = config['Telegram']['api_id']\n",
        "api_hash = config['Telegram']['api_hash']\n",
        "\n",
        "api_hash = str(api_hash)\n",
        "\n",
        "phone = config['Telegram']['phone']\n",
        "username = config['Telegram']['username']"
      ],
      "execution_count": null,
      "outputs": []
    },
    {
      "cell_type": "code",
      "metadata": {
        "colab": {
          "base_uri": "https://localhost:8080/"
        },
        "id": "UwsxUXK9q0BR",
        "outputId": "81e129ef-ba18-499b-e415-1d8e2aaee2a0"
      },
      "source": [
        "# Create the client and connect\n",
        "api_id = 3177433\n",
        "api_hash = 'e3efc871e777bfee6140b1a9a8af5ed5'\n",
        "client = TelegramClient('Tele_Tone_Bot', api_id, api_hash)\n",
        "client.start(bot_token='1729758498:AAF0fRnEQavTgIGMAzRMog4PG6oca9NWvJ4')\n",
        "print(f'Bot launched on @{client.get_me()}')"
      ],
      "execution_count": null,
      "outputs": [
        {
          "output_type": "stream",
          "text": [
            "Bot launched on @<coroutine object UserMethods.get_me at 0x7ff9a29e64d0>\n"
          ],
          "name": "stdout"
        },
        {
          "output_type": "stream",
          "text": [
            "/usr/local/lib/python3.7/dist-packages/ipykernel_launcher.py:5: RuntimeWarning: coroutine 'AuthMethods._start' was never awaited\n",
            "  \"\"\"\n",
            "RuntimeWarning: Enable tracemalloc to get the object allocation traceback\n",
            "/usr/local/lib/python3.7/dist-packages/ipykernel_launcher.py:6: RuntimeWarning: coroutine 'UserMethods.get_me' was never awaited\n",
            "  \n",
            "RuntimeWarning: Enable tracemalloc to get the object allocation traceback\n"
          ],
          "name": "stderr"
        }
      ]
    },
    {
      "cell_type": "markdown",
      "metadata": {
        "id": "8aePq0Ppseuq"
      },
      "source": [
        "## Get User Input"
      ]
    },
    {
      "cell_type": "code",
      "metadata": {
        "id": "P8NYx9Hfsh2z"
      },
      "source": [
        "async def main(phone):\n",
        "    await client.start()\n",
        "    print(\"Client Created\")\n",
        "    # Ensure you're authorized\n",
        "    if await client.is_user_authorized() == False:\n",
        "        await client.send_code_request(phone)\n",
        "        try:\n",
        "            await client.sign_in(phone, input('Enter the code: '))\n",
        "        except SessionPasswordNeededError:\n",
        "            await client.sign_in(password=input('Password: '))\n",
        "\n",
        "    me = await client.get_me()\n",
        "\n",
        "    user_input_channel = input('enter entity(telegram URL or entity id):')\n",
        "\n",
        "    if user_input_channel.isdigit():\n",
        "        entity = PeerChannel(int(user_input_channel))\n",
        "    else:\n",
        "        entity = user_input_channel\n",
        "\n",
        "    my_channel = await client.get_entity(entity)\n",
        "\n",
        "    offset_id = 0\n",
        "    limit = 100\n",
        "    all_messages = []\n",
        "    total_messages = 0\n",
        "    total_count_limit = 0\n",
        "\n",
        "    while True:\n",
        "        print(\"Current Offset ID is:\", offset_id, \"; Total Messages:\", total_messages)\n",
        "        history = await client(GetHistoryRequest(\n",
        "            peer=my_channel,\n",
        "            offset_id=offset_id,\n",
        "            offset_date=None,\n",
        "            add_offset=0,\n",
        "            limit=limit,\n",
        "            max_id=0,\n",
        "            min_id=0,\n",
        "            hash=0\n",
        "        ))\n",
        "        if not history.messages:\n",
        "            break\n",
        "        messages = history.messages\n",
        "        for message in messages:\n",
        "            all_messages.append(message.to_dict())\n",
        "        offset_id = messages[len(messages) - 1].id\n",
        "        total_messages = len(all_messages)\n",
        "        if total_count_limit != 0 and total_messages >= total_count_limit:\n",
        "            break\n",
        "\n",
        "    with open('channel_messages.json', 'w') as outfile:\n",
        "        json.dump(all_messages, outfile, cls=DateTimeEncoder)"
      ],
      "execution_count": null,
      "outputs": []
    },
    {
      "cell_type": "markdown",
      "metadata": {
        "id": "JxdGX88DOmcZ"
      },
      "source": [
        "## Text Input / Extract Text "
      ]
    },
    {
      "cell_type": "code",
      "metadata": {
        "id": "KYnkbfcOOtKd"
      },
      "source": [
        "text = 'In another life I would be your girl We would keep all our promises Be us against the world' "
      ],
      "execution_count": null,
      "outputs": []
    },
    {
      "cell_type": "markdown",
      "metadata": {
        "id": "e8s_8qopO08X"
      },
      "source": [
        "## Tone Generation"
      ]
    },
    {
      "cell_type": "code",
      "metadata": {
        "colab": {
          "base_uri": "https://localhost:8080/"
        },
        "id": "rRbuV5c6O0M2",
        "outputId": "2e30344f-35a2-40ac-8262-0747e7fbd4e9"
      },
      "source": [
        "res = ta.tone(text).get_result()\n",
        "Tone_Style = res['document_tone']['tones'][0]['tone_name']\n",
        "print(Tone_Style)"
      ],
      "execution_count": null,
      "outputs": [
        {
          "output_type": "stream",
          "text": [
            "Confident\n"
          ],
          "name": "stdout"
        }
      ]
    },
    {
      "cell_type": "code",
      "metadata": {
        "id": "co96lBuVPUMG"
      },
      "source": [
        "text_new = text.replace(' ','')"
      ],
      "execution_count": null,
      "outputs": []
    },
    {
      "cell_type": "code",
      "metadata": {
        "id": "jOdNlfoQd1dv"
      },
      "source": [
        "res = text.split()"
      ],
      "execution_count": null,
      "outputs": []
    },
    {
      "cell_type": "code",
      "metadata": {
        "id": "gQZe2r-welMQ"
      },
      "source": [
        "res_new = res[3:-1]"
      ],
      "execution_count": null,
      "outputs": []
    },
    {
      "cell_type": "code",
      "metadata": {
        "id": "TQ0z0mmte2Nn"
      },
      "source": [
        "res_new "
      ],
      "execution_count": null,
      "outputs": []
    },
    {
      "cell_type": "code",
      "metadata": {
        "colab": {
          "base_uri": "https://localhost:8080/",
          "height": 35
        },
        "id": "X4tsdNNhfvop",
        "outputId": "f66a3a60-c6c4-400a-d30e-fcec591a99c9"
      },
      "source": [
        "new_text = ''\n",
        "for word in res_new:\n",
        "  word = word + ' '\n",
        "  new_text += word\n",
        "new_text"
      ],
      "execution_count": null,
      "outputs": [
        {
          "output_type": "execute_result",
          "data": {
            "application/vnd.google.colaboratory.intrinsic+json": {
              "type": "string"
            },
            "text/plain": [
              "'I would be your girl We would keep all our promises Be us against the '"
            ]
          },
          "metadata": {
            "tags": []
          },
          "execution_count": 84
        }
      ]
    },
    {
      "cell_type": "code",
      "metadata": {
        "colab": {
          "base_uri": "https://localhost:8080/"
        },
        "id": "lOHLjHzchJ99",
        "outputId": "ec5da036-8938-4163-9463-23bbffaa9fcf"
      },
      "source": [
        "res = ta.tone(new_text).get_result()\n",
        "print(res)"
      ],
      "execution_count": null,
      "outputs": [
        {
          "output_type": "stream",
          "text": [
            "{'document_tone': {'tones': [{'score': 0.727798, 'tone_id': 'confident', 'tone_name': 'Confident'}]}}\n"
          ],
          "name": "stdout"
        }
      ]
    },
    {
      "cell_type": "code",
      "metadata": {
        "id": "9IAJQL0NhOeY"
      },
      "source": [
        ""
      ],
      "execution_count": null,
      "outputs": []
    }
  ]
}